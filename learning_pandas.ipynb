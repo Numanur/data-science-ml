{
 "cells": [
  {
   "cell_type": "code",
   "execution_count": 1,
   "id": "2fd8a8da-dd7c-4b59-b7a4-c3f2dffbb807",
   "metadata": {},
   "outputs": [
    {
     "name": "stdout",
     "output_type": "stream",
     "text": [
      "Initialized empty Git repository in C:/Users/noman_j/Desktop/ML&DS/Conda/.git/\n"
     ]
    }
   ],
   "source": [
    "!git init"
   ]
  },
  {
   "cell_type": "code",
   "execution_count": 2,
   "id": "f22ce70e-d04b-49ee-b971-7a1e842a0503",
   "metadata": {},
   "outputs": [],
   "source": [
    "!git remote add origin https://github.com/Numanur/data-science-ml.git"
   ]
  },
  {
   "cell_type": "code",
   "execution_count": 4,
   "id": "c4fbd063-b0ba-42f9-98ed-3303f9cfde93",
   "metadata": {},
   "outputs": [],
   "source": [
    "!git config --global user.email \"nomanur016@gmail.com\"\n",
    "!git config --global user.name \"Numanur\"\n"
   ]
  },
  {
   "cell_type": "code",
   "execution_count": null,
   "id": "fcaad1c1-10c8-442a-abb2-bf76facbaea4",
   "metadata": {},
   "outputs": [],
   "source": []
  }
 ],
 "metadata": {
  "kernelspec": {
   "display_name": "Python (env)",
   "language": "python",
   "name": "env"
  },
  "language_info": {
   "codemirror_mode": {
    "name": "ipython",
    "version": 3
   },
   "file_extension": ".py",
   "mimetype": "text/x-python",
   "name": "python",
   "nbconvert_exporter": "python",
   "pygments_lexer": "ipython3",
   "version": "3.13.2"
  }
 },
 "nbformat": 4,
 "nbformat_minor": 5
}
