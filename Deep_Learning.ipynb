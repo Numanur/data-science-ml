{
  "nbformat": 4,
  "nbformat_minor": 0,
  "metadata": {
    "colab": {
      "provenance": [],
      "gpuType": "T4",
      "authorship_tag": "ABX9TyPJzng0Q14fn8GrY0foDXbY",
      "include_colab_link": true
    },
    "kernelspec": {
      "name": "python3",
      "display_name": "Python 3"
    },
    "language_info": {
      "name": "python"
    },
    "accelerator": "GPU"
  },
  "cells": [
    {
      "cell_type": "markdown",
      "metadata": {
        "id": "view-in-github",
        "colab_type": "text"
      },
      "source": [
        "<a href=\"https://colab.research.google.com/github/Numanur/data-science-ml/blob/main/Deep_Learning.ipynb\" target=\"_parent\"><img src=\"https://colab.research.google.com/assets/colab-badge.svg\" alt=\"Open In Colab\"/></a>"
      ]
    },
    {
      "cell_type": "markdown",
      "source": [
        "#**Deep Learning and Neural Network**"
      ],
      "metadata": {
        "id": "_IibJfkhHIf6"
      }
    },
    {
      "cell_type": "markdown",
      "source": [
        "This notebook helps to understand deep learning specially neural network. We will learn this step by step."
      ],
      "metadata": {
        "id": "OxokuJcsHQyK"
      }
    },
    {
      "cell_type": "markdown",
      "source": [
        "**What is a Neuron?**\n",
        "\n",
        "A neuron is the fundamental building block of a neural network that receives inputs, processes them (by applying weights, adding a bias, and passing through an activation function), and produces an output.\n",
        "\n",
        "Let’s say a neuron gets 3 inputs:\n",
        "\n",
        "$$𝑥_1, x_2. x_3$$\n",
        "\n",
        "And it has weights:\n",
        "$$w_1, w_2, w_3$$\n",
        "And a bias:\n",
        "$$b$$\n",
        "The neuron computes:\n",
        "$$z = w_1*x_1+w_2*x_2+w_3*x_3 + b$$\n",
        "Then it applies an activation function (like sigmoid, ReLU, etc.):\n",
        "$$a = activation(z)$$\n",
        "Here, a is the neuron's output.\n",
        "\n",
        "**A logistic regression model is basically a one-layer neural network with one neuron.**"
      ],
      "metadata": {
        "id": "RGscsv9BHeLP"
      }
    },
    {
      "cell_type": "code",
      "source": [
        "import tensorflow\n"
      ],
      "metadata": {
        "id": "mcxms3kwduRb"
      },
      "execution_count": 53,
      "outputs": []
    },
    {
      "cell_type": "code",
      "source": [
        "tensorflow.__version__"
      ],
      "metadata": {
        "colab": {
          "base_uri": "https://localhost:8080/",
          "height": 35
        },
        "id": "MFPRIPjZZmba",
        "outputId": "b92c2486-db94-4a31-8654-0bff12484065"
      },
      "execution_count": 54,
      "outputs": [
        {
          "output_type": "execute_result",
          "data": {
            "text/plain": [
              "'2.18.0'"
            ],
            "application/vnd.google.colaboratory.intrinsic+json": {
              "type": "string"
            }
          },
          "metadata": {},
          "execution_count": 54
        }
      ]
    },
    {
      "cell_type": "markdown",
      "source": [
        "#**At first, we will look a neural network for hand written digit detection**"
      ],
      "metadata": {
        "id": "Va3YL9JfZvPY"
      }
    },
    {
      "cell_type": "markdown",
      "source": [
        "1. Import the necessary libraries\n",
        "- tensorflow as the backbone\n",
        "- mnist dataset inside the tensorflow (60k training images, 10k test images)\n",
        "- Sequential is a linear stack of layers to build layer-by-layer.\n",
        "- Dense is used to connect each neuron to all the inputs.\n",
        "- Flatten converts 2D input (28×28 image) into a 1D vector (784) so it can be fed into Dense layers.\n",
        "- to_categorical converts class labels (e.g. 5) into one-hot vectors (e.g. [0, 0, 0, 0, 0, 1, 0, 0, 0, 0])."
      ],
      "metadata": {
        "id": "5fhFuIRDwzeK"
      }
    },
    {
      "cell_type": "code",
      "source": [
        "import tensorflow as tf\n",
        "from tensorflow.math import confusion_matrix\n",
        "from tensorflow.keras.datasets import mnist\n",
        "from tensorflow.keras.models import Sequential\n",
        "from tensorflow.keras.layers import Dense, Flatten\n",
        "from tensorflow.keras.utils import to_categorical\n",
        "import numpy as np\n",
        "import matplotlib.pyplot as plt\n",
        "import seaborn as sns\n"
      ],
      "metadata": {
        "id": "ZXvj7M7OeLna"
      },
      "execution_count": 55,
      "outputs": []
    },
    {
      "cell_type": "markdown",
      "source": [
        "Loads the dataset.\n",
        "\n",
        "X_train, X_test: image data (shape: 28×28 grayscale images)\n",
        "\n",
        "y_train, y_test: labels (integers from 0 to 9)"
      ],
      "metadata": {
        "id": "Jc_JTVsIx3IK"
      }
    },
    {
      "cell_type": "code",
      "source": [
        "(X_train, y_train), (X_test, y_test) = mnist.load_data()"
      ],
      "metadata": {
        "id": "YSL8rpTOfRZt"
      },
      "execution_count": 56,
      "outputs": []
    },
    {
      "cell_type": "code",
      "source": [
        "len(X_train), len(X_test), len(y_train), len(y_test)"
      ],
      "metadata": {
        "colab": {
          "base_uri": "https://localhost:8080/"
        },
        "id": "uUV61CSdfjtN",
        "outputId": "1c25e1d1-c97f-4482-93c7-06cefa118a4e"
      },
      "execution_count": 57,
      "outputs": [
        {
          "output_type": "execute_result",
          "data": {
            "text/plain": [
              "(60000, 10000, 60000, 10000)"
            ]
          },
          "metadata": {},
          "execution_count": 57
        }
      ]
    },
    {
      "cell_type": "code",
      "source": [
        "X_train.shape"
      ],
      "metadata": {
        "colab": {
          "base_uri": "https://localhost:8080/"
        },
        "id": "EguoBxhGgAaJ",
        "outputId": "9d26c620-667a-4b9d-e7b4-8601a14e186d"
      },
      "execution_count": 58,
      "outputs": [
        {
          "output_type": "execute_result",
          "data": {
            "text/plain": [
              "(60000, 28, 28)"
            ]
          },
          "metadata": {},
          "execution_count": 58
        }
      ]
    },
    {
      "cell_type": "code",
      "source": [
        "plt.matshow(X_train[59999])"
      ],
      "metadata": {
        "colab": {
          "base_uri": "https://localhost:8080/",
          "height": 454
        },
        "id": "qrsnyb8FgHx7",
        "outputId": "3d3bd8a5-0438-4f59-dece-1486d674a1be"
      },
      "execution_count": 59,
      "outputs": [
        {
          "output_type": "execute_result",
          "data": {
            "text/plain": [
              "<matplotlib.image.AxesImage at 0x7c38f00d0810>"
            ]
          },
          "metadata": {},
          "execution_count": 59
        },
        {
          "output_type": "display_data",
          "data": {
            "text/plain": [
              "<Figure size 480x480 with 1 Axes>"
            ],
            "image/png": "[encoded data removed]"
          },
          "metadata": {}
        }
      ]
    },
    {
      "cell_type": "code",
      "source": [
        "y_train[59999]"
      ],
      "metadata": {
        "colab": {
          "base_uri": "https://localhost:8080/"
        },
        "id": "PP4Lu2xwg03N",
        "outputId": "e7b88cfe-317c-42f6-a718-be7e0db46214"
      },
      "execution_count": 60,
      "outputs": [
        {
          "output_type": "execute_result",
          "data": {
            "text/plain": [
              "np.uint8(8)"
            ]
          },
          "metadata": {},
          "execution_count": 60
        }
      ]
    },
    {
      "cell_type": "markdown",
      "source": [
        "Normalize from int to float for efficiency"
      ],
      "metadata": {
        "id": "Yf8Bzff9kI7q"
      }
    },
    {
      "cell_type": "code",
      "source": [
        "X_train = X_train / 255.0\n",
        "X_test = X_test / 255.0"
      ],
      "metadata": {
        "id": "dRj22b_ukO9w"
      },
      "execution_count": 61,
      "outputs": []
    },
    {
      "cell_type": "markdown",
      "source": [
        "One-hot encodes the labels to make them compatible with the neural network output.\n",
        "For example, label 3 becomes [0,0,0,1,0,0,0,0,0,0]."
      ],
      "metadata": {
        "id": "eZpfhCvxkTf1"
      }
    },
    {
      "cell_type": "code",
      "source": [
        "y_train = to_categorical(y_train, 10)\n",
        "y_test = to_categorical(y_test, 10)"
      ],
      "metadata": {
        "id": "q4Ee3xBfkbtO"
      },
      "execution_count": 62,
      "outputs": []
    },
    {
      "cell_type": "markdown",
      "source": [
        "**We will use only two layers(input and output) layer. There will be no hidden layer.**\n",
        "Also out activation function is **Sigmoid**"
      ],
      "metadata": {
        "id": "i-htt91Dkg6o"
      }
    },
    {
      "cell_type": "code",
      "source": [
        "model = Sequential([\n",
        "    Flatten(input_shape=(28, 28)),\n",
        "    Dense(10, activation='sigmoid')\n",
        "])"
      ],
      "metadata": {
        "colab": {
          "base_uri": "https://localhost:8080/"
        },
        "id": "rfsEE4BYksS4",
        "outputId": "77dc5cb0-c042-40c7-d162-a780eb5b6818"
      },
      "execution_count": 63,
      "outputs": [
        {
          "output_type": "stream",
          "name": "stderr",
          "text": [
            "/usr/local/lib/python3.11/dist-packages/keras/src/layers/reshaping/flatten.py:37: UserWarning: Do not pass an `input_shape`/`input_dim` argument to a layer. When using Sequential models, prefer using an `Input(shape)` object as the first layer in the model instead.\n",
            "  super().__init__(**kwargs)\n"
          ]
        }
      ]
    },
    {
      "cell_type": "markdown",
      "source": [
        "**Now we have to compile the model**\n",
        "\n",
        "We will use `categorical_crossentropy` as loss function because we are using for multi-class classification and one hot encoding."
      ],
      "metadata": {
        "id": "znIdLZRalb6F"
      }
    },
    {
      "cell_type": "code",
      "source": [
        "model.compile(\n",
        "    optimizer='adam',\n",
        "    loss='categorical_crossentropy',\n",
        "    metrics=['accuracy']\n",
        ")"
      ],
      "metadata": {
        "id": "e5hi43lolwyq"
      },
      "execution_count": 64,
      "outputs": []
    },
    {
      "cell_type": "markdown",
      "source": [
        "**Now after compiling the model, we will have to fit with the training data**\n",
        "\n",
        "#Change the runtime into GPU"
      ],
      "metadata": {
        "id": "EJFHVW0zmNqQ"
      }
    },
    {
      "cell_type": "code",
      "source": [
        "model.fit(X_train, y_train, epochs=5, validation_split=0.1)"
      ],
      "metadata": {
        "colab": {
          "base_uri": "https://localhost:8080/"
        },
        "id": "tezGuy20md5V",
        "outputId": "b9ab8d99-bb84-4f92-e4a0-d008ebea56fb"
      },
      "execution_count": 65,
      "outputs": [
        {
          "output_type": "stream",
          "name": "stdout",
          "text": [
            "Epoch 1/5\n",
            "\u001b[1m1688/1688\u001b[0m \u001b[32m━━━━━━━━━━━━━━━━━━━━\u001b[0m\u001b[37m\u001b[0m \u001b[1m6s\u001b[0m 3ms/step - accuracy: 0.8063 - loss: 0.7455 - val_accuracy: 0.9238 - val_loss: 0.2713\n",
            "Epoch 2/5\n",
            "\u001b[1m1688/1688\u001b[0m \u001b[32m━━━━━━━━━━━━━━━━━━━━\u001b[0m\u001b[37m\u001b[0m \u001b[1m9s\u001b[0m 3ms/step - accuracy: 0.9096 - loss: 0.3241 - val_accuracy: 0.9312 - val_loss: 0.2458\n",
            "Epoch 3/5\n",
            "\u001b[1m1688/1688\u001b[0m \u001b[32m━━━━━━━━━━━━━━━━━━━━\u001b[0m\u001b[37m\u001b[0m \u001b[1m5s\u001b[0m 3ms/step - accuracy: 0.9185 - loss: 0.2938 - val_accuracy: 0.9342 - val_loss: 0.2360\n",
            "Epoch 4/5\n",
            "\u001b[1m1688/1688\u001b[0m \u001b[32m━━━━━━━━━━━━━━━━━━━━\u001b[0m\u001b[37m\u001b[0m \u001b[1m5s\u001b[0m 2ms/step - accuracy: 0.9224 - loss: 0.2790 - val_accuracy: 0.9363 - val_loss: 0.2320\n",
            "Epoch 5/5\n",
            "\u001b[1m1688/1688\u001b[0m \u001b[32m━━━━━━━━━━━━━━━━━━━━\u001b[0m\u001b[37m\u001b[0m \u001b[1m5s\u001b[0m 3ms/step - accuracy: 0.9240 - loss: 0.2688 - val_accuracy: 0.9370 - val_loss: 0.2289\n"
          ]
        },
        {
          "output_type": "execute_result",
          "data": {
            "text/plain": [
              "<keras.src.callbacks.history.History at 0x7c38f0414450>"
            ]
          },
          "metadata": {},
          "execution_count": 65
        }
      ]
    },
    {
      "cell_type": "code",
      "source": [
        "test_loss, test_accuracy = model.evaluate(X_test, y_test)\n",
        "print(f\"Test Accuracy: {test_accuracy * 100:.2f}%\")\n"
      ],
      "metadata": {
        "colab": {
          "base_uri": "https://localhost:8080/"
        },
        "id": "DwUeOUcysHUC",
        "outputId": "9ac68791-1441-43b2-f145-734d2f37ad0f"
      },
      "execution_count": 66,
      "outputs": [
        {
          "output_type": "stream",
          "name": "stdout",
          "text": [
            "\u001b[1m313/313\u001b[0m \u001b[32m━━━━━━━━━━━━━━━━━━━━\u001b[0m\u001b[37m\u001b[0m \u001b[1m1s\u001b[0m 2ms/step - accuracy: 0.9148 - loss: 0.3040\n",
            "Test Accuracy: 92.53%\n"
          ]
        }
      ]
    },
    {
      "cell_type": "code",
      "source": [
        "plt.matshow(X_test[0])"
      ],
      "metadata": {
        "colab": {
          "base_uri": "https://localhost:8080/",
          "height": 454
        },
        "id": "rdEe0kx8odjm",
        "outputId": "7af6ecd9-c27b-4a19-9f90-b072333e719a"
      },
      "execution_count": 67,
      "outputs": [
        {
          "output_type": "execute_result",
          "data": {
            "text/plain": [
              "<matplotlib.image.AxesImage at 0x7c38f01d2e50>"
            ]
          },
          "metadata": {},
          "execution_count": 67
        },
        {
          "output_type": "display_data",
          "data": {
            "text/plain": [
              "<Figure size 480x480 with 1 Axes>"
            ],
            "image/png": "[encoded data removed]"
          },
          "metadata": {}
        }
      ]
    },
    {
      "cell_type": "code",
      "source": [
        "y_pred = model.predict(X_test)"
      ],
      "metadata": {
        "colab": {
          "base_uri": "https://localhost:8080/"
        },
        "id": "SXeoN-ZBos74",
        "outputId": "af19d387-20b0-4812-c6d0-527c375dfc8d"
      },
      "execution_count": 68,
      "outputs": [
        {
          "output_type": "stream",
          "name": "stdout",
          "text": [
            "\u001b[1m313/313\u001b[0m \u001b[32m━━━━━━━━━━━━━━━━━━━━\u001b[0m\u001b[37m\u001b[0m \u001b[1m1s\u001b[0m 1ms/step\n"
          ]
        }
      ]
    },
    {
      "cell_type": "code",
      "source": [
        "sample_image = X_test[1]\n",
        "plt.imshow(sample_image, cmap='gray')\n",
        "plt.title(f\"Actual Label: {np.argmax(y_test[1])}\")\n",
        "plt.show()"
      ],
      "metadata": {
        "colab": {
          "base_uri": "https://localhost:8080/",
          "height": 452
        },
        "id": "AGhWYXAWpVnM",
        "outputId": "52abd940-432b-4ea9-f5ca-e46b6528062b"
      },
      "execution_count": 69,
      "outputs": [
        {
          "output_type": "display_data",
          "data": {
            "text/plain": [
              "<Figure size 640x480 with 1 Axes>"
            ],
            "image/png": "[encoded data removed]"
          },
          "metadata": {}
        }
      ]
    },
    {
      "cell_type": "code",
      "source": [
        "prediction = model.predict(sample_image.reshape(1, 28, 28))\n",
        "print(\"Predicted Label:\", np.argmax(prediction))"
      ],
      "metadata": {
        "colab": {
          "base_uri": "https://localhost:8080/"
        },
        "id": "T_6uaZTHruXD",
        "outputId": "ec6c3485-966d-4d5b-afe0-ffb0d8031ed8"
      },
      "execution_count": 70,
      "outputs": [
        {
          "output_type": "stream",
          "name": "stdout",
          "text": [
            "\u001b[1m1/1\u001b[0m \u001b[32m━━━━━━━━━━━━━━━━━━━━\u001b[0m\u001b[37m\u001b[0m \u001b[1m0s\u001b[0m 308ms/step\n",
            "Predicted Label: 2\n"
          ]
        }
      ]
    },
    {
      "cell_type": "markdown",
      "source": [
        "#**So our model is successfully working.**"
      ],
      "metadata": {
        "id": "0oE7JdsdtUlz"
      }
    },
    {
      "cell_type": "markdown",
      "source": [
        "#Let's take a look on confusion matrix and visualize it"
      ],
      "metadata": {
        "id": "jXF3qKKetcXB"
      }
    },
    {
      "cell_type": "code",
      "source": [
        "cmt = confusion_matrix(labels=np.argmax(y_test, axis=1), predictions=np.argmax(y_pred, axis=1))"
      ],
      "metadata": {
        "id": "4MV5aE9Qti-3"
      },
      "execution_count": 71,
      "outputs": []
    },
    {
      "cell_type": "code",
      "source": [
        "sns.heatmap(cmt, annot=True, fmt='d')\n",
        "plt.xlabel('Predicted')\n",
        "plt.ylabel('Actual')\n",
        "plt.show()"
      ],
      "metadata": {
        "colab": {
          "base_uri": "https://localhost:8080/",
          "height": 449
        },
        "id": "MrqEkj0OuPv6",
        "outputId": "358d920e-6014-4d99-93f4-6308495ec3d9"
      },
      "execution_count": 72,
      "outputs": [
        {
          "output_type": "display_data",
          "data": {
            "text/plain": [
              "<Figure size 640x480 with 2 Axes>"
            ],
            "image/png": "[encoded data removed]"
          },
          "metadata": {}
        }
      ]
    }
  ]
}