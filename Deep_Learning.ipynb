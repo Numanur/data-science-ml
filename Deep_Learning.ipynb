{
  "nbformat": 4,
  "nbformat_minor": 0,
  "metadata": {
    "colab": {
      "provenance": [],
      "gpuType": "T4",
      "authorship_tag": "ABX9TyPZuGtLK6hxbaajn6tUDRWK",
      "include_colab_link": true
    },
    "kernelspec": {
      "name": "python3",
      "display_name": "Python 3"
    },
    "language_info": {
      "name": "python"
    },
    "accelerator": "GPU"
  },
  "cells": [
    {
      "cell_type": "markdown",
      "metadata": {
        "id": "view-in-github",
        "colab_type": "text"
      },
      "source": [
        "<a href=\"https://colab.research.google.com/github/Numanur/data-science-ml/blob/main/Deep_Learning.ipynb\" target=\"_parent\"><img src=\"https://colab.research.google.com/assets/colab-badge.svg\" alt=\"Open In Colab\"/></a>"
      ]
    },
    {
      "cell_type": "markdown",
      "source": [
        "#**Deep Learning and Neural Network**"
      ],
      "metadata": {
        "id": "_IibJfkhHIf6"
      }
    },
    {
      "cell_type": "markdown",
      "source": [
        "This notebook helps to understand deep learning specially neural network. We will learn this step by step."
      ],
      "metadata": {
        "id": "OxokuJcsHQyK"
      }
    },
    {
      "cell_type": "markdown",
      "source": [
        "**What is a Neuron?**\n",
        "\n",
        "A neuron is the fundamental building block of a neural network that receives inputs, processes them (by applying weights, adding a bias, and passing through an activation function), and produces an output.\n",
        "\n",
        "Let’s say a neuron gets 3 inputs:\n",
        "\n",
        "$$𝑥_1, x_2. x_3$$\n",
        "\n",
        "And it has weights:\n",
        "$$w_1, w_2, w_3$$\n",
        "And a bias:\n",
        "$$b$$\n",
        "The neuron computes:\n",
        "$$z = w_1*x_1+w_2*x_2+w_3*x_3 + b$$\n",
        "Then it applies an activation function (like sigmoid, ReLU, etc.):\n",
        "$$a = activation(z)$$\n",
        "Here, a is the neuron's output.\n",
        "\n",
        "**A logistic regression model is basically a one-layer neural network with one neuron.**"
      ],
      "metadata": {
        "id": "RGscsv9BHeLP"
      }
    },
    {
      "cell_type": "code",
      "source": [
        "import tensorflow\n"
      ],
      "metadata": {
        "id": "mcxms3kwduRb"
      },
      "execution_count": null,
      "outputs": []
    },
    {
      "cell_type": "code",
      "source": [
        "tensorflow.__version__"
      ],
      "metadata": {
        "colab": {
          "base_uri": "https://localhost:8080/",
          "height": 35
        },
        "id": "MFPRIPjZZmba",
        "outputId": "aeb74513-37ce-486d-d9af-206a41e35eb3"
      },
      "execution_count": null,
      "outputs": [
        {
          "output_type": "execute_result",
          "data": {
            "text/plain": [
              "'2.18.0'"
            ],
            "application/vnd.google.colaboratory.intrinsic+json": {
              "type": "string"
            }
          },
          "metadata": {},
          "execution_count": 3
        }
      ]
    },
    {
      "cell_type": "markdown",
      "source": [
        "#**At first, we will look a neural network for hand written digit detection**"
      ],
      "metadata": {
        "id": "Va3YL9JfZvPY"
      }
    },
    {
      "cell_type": "markdown",
      "source": [
        "1. Import the necessary libraries\n",
        "- tensorflow as the backbone\n",
        "- mnist dataset inside the tensorflow (60k training images, 10k test images)\n",
        "- Sequential is a linear stack of layers to build layer-by-layer.\n",
        "- Dense is used to connect each neuron to all the inputs.\n",
        "- Flatten converts 2D input (28×28 image) into a 1D vector (784) so it can be fed into Dense layers.\n",
        "- to_categorical converts class labels (e.g. 5) into one-hot vectors (e.g. [0, 0, 0, 0, 0, 1, 0, 0, 0, 0])."
      ],
      "metadata": {
        "id": "5fhFuIRDwzeK"
      }
    },
    {
      "cell_type": "code",
      "source": [
        "import tensorflow as tf\n",
        "from tensorflow.math import confusion_matrix\n",
        "from tensorflow.keras.datasets import mnist\n",
        "from tensorflow.keras.models import Sequential\n",
        "from tensorflow.keras.layers import Dense, Flatten, Dropout, Input\n",
        "from tensorflow.keras.utils import to_categorical\n",
        "import numpy as np\n",
        "import matplotlib.pyplot as plt\n",
        "import seaborn as sns\n"
      ],
      "metadata": {
        "id": "ZXvj7M7OeLna"
      },
      "execution_count": null,
      "outputs": []
    },
    {
      "cell_type": "markdown",
      "source": [
        "Loads the dataset.\n",
        "\n",
        "X_train, X_test: image data (shape: 28×28 grayscale images)\n",
        "\n",
        "y_train, y_test: labels (integers from 0 to 9)"
      ],
      "metadata": {
        "id": "Jc_JTVsIx3IK"
      }
    },
    {
      "cell_type": "code",
      "source": [
        "(X_train, y_train), (X_test, y_test) = mnist.load_data()"
      ],
      "metadata": {
        "id": "YSL8rpTOfRZt",
        "colab": {
          "base_uri": "https://localhost:8080/"
        },
        "outputId": "8cdfa40b-03e4-4d6c-e0b5-951944bbbb47"
      },
      "execution_count": null,
      "outputs": [
        {
          "output_type": "stream",
          "name": "stdout",
          "text": [
            "Downloading data from https://storage.googleapis.com/tensorflow/tf-keras-datasets/mnist.npz\n",
            "\u001b[1m11490434/11490434\u001b[0m \u001b[32m━━━━━━━━━━━━━━━━━━━━\u001b[0m\u001b[37m\u001b[0m \u001b[1m0s\u001b[0m 0us/step\n"
          ]
        }
      ]
    },
    {
      "cell_type": "code",
      "source": [
        "len(X_train), len(X_test), len(y_train), len(y_test)"
      ],
      "metadata": {
        "colab": {
          "base_uri": "https://localhost:8080/"
        },
        "id": "uUV61CSdfjtN",
        "outputId": "3c3d540b-3984-4180-a4ab-20ce9fa2f919"
      },
      "execution_count": null,
      "outputs": [
        {
          "output_type": "execute_result",
          "data": {
            "text/plain": [
              "(60000, 10000, 60000, 10000)"
            ]
          },
          "metadata": {},
          "execution_count": 6
        }
      ]
    },
    {
      "cell_type": "code",
      "source": [
        "X_train.shape"
      ],
      "metadata": {
        "colab": {
          "base_uri": "https://localhost:8080/"
        },
        "id": "EguoBxhGgAaJ",
        "outputId": "0e1c19ce-4121-4fa1-ce7d-48583e434ea3"
      },
      "execution_count": null,
      "outputs": [
        {
          "output_type": "execute_result",
          "data": {
            "text/plain": [
              "(60000, 28, 28)"
            ]
          },
          "metadata": {},
          "execution_count": 7
        }
      ]
    },
    {
      "cell_type": "code",
      "source": [
        "plt.matshow(X_train[59999])"
      ],
      "metadata": {
        "colab": {
          "base_uri": "https://localhost:8080/",
          "height": 454
        },
        "id": "qrsnyb8FgHx7",
        "outputId": "7a56e254-723a-4be8-e320-c9f9a2b31ca6"
      },
      "execution_count": null,
      "outputs": [
        {
          "output_type": "execute_result",
          "data": {
            "text/plain": [
              "<matplotlib.image.AxesImage at 0x7b07257923d0>"
            ]
          },
          "metadata": {},
          "execution_count": 8
        },
        {
          "output_type": "display_data",
          "data": {
            "text/plain": [
              "<Figure size 480x480 with 1 Axes>"
            ],
            "image/png": "[encoded data removed]"
          },
          "metadata": {}
        }
      ]
    },
    {
      "cell_type": "code",
      "source": [
        "y_train[59999]"
      ],
      "metadata": {
        "colab": {
          "base_uri": "https://localhost:8080/"
        },
        "id": "PP4Lu2xwg03N",
        "outputId": "e5a993d1-6d89-4309-bc2b-1a9def5f9a8c"
      },
      "execution_count": null,
      "outputs": [
        {
          "output_type": "execute_result",
          "data": {
            "text/plain": [
              "np.uint8(8)"
            ]
          },
          "metadata": {},
          "execution_count": 9
        }
      ]
    },
    {
      "cell_type": "markdown",
      "source": [
        "Normalize from int to float for efficiency"
      ],
      "metadata": {
        "id": "Yf8Bzff9kI7q"
      }
    },
    {
      "cell_type": "code",
      "source": [
        "X_train = X_train / 255.0\n",
        "X_test = X_test / 255.0"
      ],
      "metadata": {
        "id": "dRj22b_ukO9w"
      },
      "execution_count": null,
      "outputs": []
    },
    {
      "cell_type": "markdown",
      "source": [
        "One-hot encodes the labels to make them compatible with the neural network output.\n",
        "For example, label 3 becomes [0,0,0,1,0,0,0,0,0,0]."
      ],
      "metadata": {
        "id": "eZpfhCvxkTf1"
      }
    },
    {
      "cell_type": "code",
      "source": [
        "y_train = to_categorical(y_train, 10)\n",
        "y_test = to_categorical(y_test, 10)"
      ],
      "metadata": {
        "id": "q4Ee3xBfkbtO"
      },
      "execution_count": null,
      "outputs": []
    },
    {
      "cell_type": "markdown",
      "source": [
        "**We will use only two layers(input and output) layer. There will be no hidden layer.**\n",
        "Also out activation function is **Sigmoid**"
      ],
      "metadata": {
        "id": "i-htt91Dkg6o"
      }
    },
    {
      "cell_type": "code",
      "source": [
        "model = Sequential([\n",
        "    Input(shape=(28,28)),\n",
        "    Flatten(),\n",
        "    Dense(10, activation='sigmoid')\n",
        "])"
      ],
      "metadata": {
        "id": "rfsEE4BYksS4"
      },
      "execution_count": null,
      "outputs": []
    },
    {
      "cell_type": "markdown",
      "source": [
        "**Now we have to compile the model**\n",
        "\n",
        "We will use `categorical_crossentropy` as loss function because we are using for multi-class classification and one hot encoding."
      ],
      "metadata": {
        "id": "znIdLZRalb6F"
      }
    },
    {
      "cell_type": "code",
      "source": [
        "model.compile(\n",
        "    optimizer='adam',\n",
        "    loss='categorical_crossentropy',\n",
        "    metrics=['accuracy']\n",
        ")"
      ],
      "metadata": {
        "id": "e5hi43lolwyq"
      },
      "execution_count": null,
      "outputs": []
    },
    {
      "cell_type": "markdown",
      "source": [
        "**Now after compiling the model, we will have to fit with the training data**\n",
        "\n",
        "#Change the runtime into GPU"
      ],
      "metadata": {
        "id": "EJFHVW0zmNqQ"
      }
    },
    {
      "cell_type": "code",
      "source": [
        "model.fit(X_train, y_train, epochs=5, validation_split=0.1)"
      ],
      "metadata": {
        "colab": {
          "base_uri": "https://localhost:8080/"
        },
        "id": "tezGuy20md5V",
        "outputId": "f2295c44-7574-4e73-c5ff-d0ff7b53e7ac"
      },
      "execution_count": null,
      "outputs": [
        {
          "output_type": "stream",
          "name": "stdout",
          "text": [
            "Epoch 1/5\n",
            "\u001b[1m1688/1688\u001b[0m \u001b[32m━━━━━━━━━━━━━━━━━━━━\u001b[0m\u001b[37m\u001b[0m \u001b[1m7s\u001b[0m 3ms/step - accuracy: 0.7905 - loss: 0.7820 - val_accuracy: 0.9268 - val_loss: 0.2700\n",
            "Epoch 2/5\n",
            "\u001b[1m1688/1688\u001b[0m \u001b[32m━━━━━━━━━━━━━━━━━━━━\u001b[0m\u001b[37m\u001b[0m \u001b[1m4s\u001b[0m 2ms/step - accuracy: 0.9113 - loss: 0.3242 - val_accuracy: 0.9333 - val_loss: 0.2446\n",
            "Epoch 3/5\n",
            "\u001b[1m1688/1688\u001b[0m \u001b[32m━━━━━━━━━━━━━━━━━━━━\u001b[0m\u001b[37m\u001b[0m \u001b[1m5s\u001b[0m 3ms/step - accuracy: 0.9173 - loss: 0.2932 - val_accuracy: 0.9333 - val_loss: 0.2405\n",
            "Epoch 4/5\n",
            "\u001b[1m1688/1688\u001b[0m \u001b[32m━━━━━━━━━━━━━━━━━━━━\u001b[0m\u001b[37m\u001b[0m \u001b[1m4s\u001b[0m 2ms/step - accuracy: 0.9231 - loss: 0.2751 - val_accuracy: 0.9352 - val_loss: 0.2304\n",
            "Epoch 5/5\n",
            "\u001b[1m1688/1688\u001b[0m \u001b[32m━━━━━━━━━━━━━━━━━━━━\u001b[0m\u001b[37m\u001b[0m \u001b[1m9s\u001b[0m 5ms/step - accuracy: 0.9225 - loss: 0.2788 - val_accuracy: 0.9390 - val_loss: 0.2257\n"
          ]
        },
        {
          "output_type": "execute_result",
          "data": {
            "text/plain": [
              "<keras.src.callbacks.history.History at 0x7b072575ab90>"
            ]
          },
          "metadata": {},
          "execution_count": 14
        }
      ]
    },
    {
      "cell_type": "code",
      "source": [
        "test_loss, test_accuracy = model.evaluate(X_test, y_test)\n",
        "print(f\"Test Accuracy: {test_accuracy * 100:.2f}%\")\n"
      ],
      "metadata": {
        "colab": {
          "base_uri": "https://localhost:8080/"
        },
        "id": "DwUeOUcysHUC",
        "outputId": "543dd228-4391-4477-fad8-1669df1e107d"
      },
      "execution_count": null,
      "outputs": [
        {
          "output_type": "stream",
          "name": "stdout",
          "text": [
            "\u001b[1m313/313\u001b[0m \u001b[32m━━━━━━━━━━━━━━━━━━━━\u001b[0m\u001b[37m\u001b[0m \u001b[1m1s\u001b[0m 2ms/step - accuracy: 0.9131 - loss: 0.3023\n",
            "Test Accuracy: 92.52%\n"
          ]
        }
      ]
    },
    {
      "cell_type": "code",
      "source": [
        "plt.matshow(X_test[0])"
      ],
      "metadata": {
        "colab": {
          "base_uri": "https://localhost:8080/",
          "height": 454
        },
        "id": "rdEe0kx8odjm",
        "outputId": "21134ffe-c619-40a2-b634-3b5492c9212c"
      },
      "execution_count": null,
      "outputs": [
        {
          "output_type": "execute_result",
          "data": {
            "text/plain": [
              "<matplotlib.image.AxesImage at 0x7b0725775210>"
            ]
          },
          "metadata": {},
          "execution_count": 16
        },
        {
          "output_type": "display_data",
          "data": {
            "text/plain": [
              "<Figure size 480x480 with 1 Axes>"
            ],
            "image/png": "[encoded data removed]"
          },
          "metadata": {}
        }
      ]
    },
    {
      "cell_type": "code",
      "source": [
        "y_pred = model.predict(X_test)"
      ],
      "metadata": {
        "colab": {
          "base_uri": "https://localhost:8080/"
        },
        "id": "SXeoN-ZBos74",
        "outputId": "8c355640-5d87-4f0e-83ed-deb14bc5fca4"
      },
      "execution_count": null,
      "outputs": [
        {
          "output_type": "stream",
          "name": "stdout",
          "text": [
            "\u001b[1m313/313\u001b[0m \u001b[32m━━━━━━━━━━━━━━━━━━━━\u001b[0m\u001b[37m\u001b[0m \u001b[1m1s\u001b[0m 1ms/step\n"
          ]
        }
      ]
    },
    {
      "cell_type": "code",
      "source": [
        "sample_image = X_test[1]\n",
        "plt.imshow(sample_image, cmap='gray')\n",
        "plt.title(f\"Actual Label: {np.argmax(y_test[1])}\")\n",
        "plt.show()"
      ],
      "metadata": {
        "colab": {
          "base_uri": "https://localhost:8080/",
          "height": 452
        },
        "id": "AGhWYXAWpVnM",
        "outputId": "61efdb35-4c56-4b0e-fb62-95fec6035143"
      },
      "execution_count": null,
      "outputs": [
        {
          "output_type": "display_data",
          "data": {
            "text/plain": [
              "<Figure size 640x480 with 1 Axes>"
            ],
            "image/png": "[encoded data removed]"
          },
          "metadata": {}
        }
      ]
    },
    {
      "cell_type": "code",
      "source": [
        "prediction = model.predict(sample_image.reshape(1, 28, 28))\n",
        "print(\"Predicted Label:\", np.argmax(prediction))"
      ],
      "metadata": {
        "colab": {
          "base_uri": "https://localhost:8080/"
        },
        "id": "T_6uaZTHruXD",
        "outputId": "4ab73dee-ff2f-4c51-8814-03cf845d2fe6"
      },
      "execution_count": null,
      "outputs": [
        {
          "output_type": "stream",
          "name": "stdout",
          "text": [
            "\u001b[1m1/1\u001b[0m \u001b[32m━━━━━━━━━━━━━━━━━━━━\u001b[0m\u001b[37m\u001b[0m \u001b[1m0s\u001b[0m 118ms/step\n",
            "Predicted Label: 2\n"
          ]
        }
      ]
    },
    {
      "cell_type": "markdown",
      "source": [
        "#**So our model is successfully working.**"
      ],
      "metadata": {
        "id": "0oE7JdsdtUlz"
      }
    },
    {
      "cell_type": "markdown",
      "source": [
        "#Let's take a look on confusion matrix and visualize it"
      ],
      "metadata": {
        "id": "jXF3qKKetcXB"
      }
    },
    {
      "cell_type": "code",
      "source": [
        "cmt = confusion_matrix(labels=np.argmax(y_test, axis=1), predictions=np.argmax(y_pred, axis=1))"
      ],
      "metadata": {
        "id": "4MV5aE9Qti-3"
      },
      "execution_count": null,
      "outputs": []
    },
    {
      "cell_type": "code",
      "source": [
        "sns.heatmap(cmt, annot=True, fmt='d')\n",
        "plt.xlabel('Predicted')\n",
        "plt.ylabel('Actual')\n",
        "plt.show()"
      ],
      "metadata": {
        "colab": {
          "base_uri": "https://localhost:8080/",
          "height": 449
        },
        "id": "MrqEkj0OuPv6",
        "outputId": "93b353f9-83b4-4cf0-dd28-1bf7431a494f"
      },
      "execution_count": null,
      "outputs": [
        {
          "output_type": "display_data",
          "data": {
            "text/plain": [
              "<Figure size 640x480 with 2 Axes>"
            ],
            "image/png": "[encoded data removed]"
          },
          "metadata": {}
        }
      ]
    },
    {
      "cell_type": "markdown",
      "source": [
        "#**Now we will upgrade the neural network for more efficient result**"
      ],
      "metadata": {
        "id": "7kqpDaZiYbJY"
      }
    },
    {
      "cell_type": "code",
      "source": [
        "model = Sequential([\n",
        "    Input(shape=(28,28)),\n",
        "    Flatten(),\n",
        "    Dense(16, activation='relu'),\n",
        "    Dense(16, activation=\"relu\"),\n",
        "    Dense(10, activation=\"sigmoid\")\n",
        "])\n",
        "\n",
        "model.compile(\n",
        "    optimizer='adam',\n",
        "    loss='categorical_crossentropy',\n",
        "    metrics=['accuracy']\n",
        ")\n",
        "\n",
        "model.fit(X_train, y_train, epochs=5)"
      ],
      "metadata": {
        "colab": {
          "base_uri": "https://localhost:8080/"
        },
        "id": "guH_NHUBY7uD",
        "outputId": "53d2025b-895b-4936-f405-53ba731717cc"
      },
      "execution_count": null,
      "outputs": [
        {
          "output_type": "stream",
          "name": "stdout",
          "text": [
            "Epoch 1/5\n",
            "\u001b[1m1875/1875\u001b[0m \u001b[32m━━━━━━━━━━━━━━━━━━━━\u001b[0m\u001b[37m\u001b[0m \u001b[1m6s\u001b[0m 2ms/step - accuracy: 0.7831 - loss: 0.7252\n",
            "Epoch 2/5\n",
            "\u001b[1m1875/1875\u001b[0m \u001b[32m━━━━━━━━━━━━━━━━━━━━\u001b[0m\u001b[37m\u001b[0m \u001b[1m4s\u001b[0m 2ms/step - accuracy: 0.9310 - loss: 0.2426\n",
            "Epoch 3/5\n",
            "\u001b[1m1875/1875\u001b[0m \u001b[32m━━━━━━━━━━━━━━━━━━━━\u001b[0m\u001b[37m\u001b[0m \u001b[1m4s\u001b[0m 2ms/step - accuracy: 0.9385 - loss: 0.2108\n",
            "Epoch 4/5\n",
            "\u001b[1m1875/1875\u001b[0m \u001b[32m━━━━━━━━━━━━━━━━━━━━\u001b[0m\u001b[37m\u001b[0m \u001b[1m4s\u001b[0m 2ms/step - accuracy: 0.9463 - loss: 0.1841\n",
            "Epoch 5/5\n",
            "\u001b[1m1875/1875\u001b[0m \u001b[32m━━━━━━━━━━━━━━━━━━━━\u001b[0m\u001b[37m\u001b[0m \u001b[1m4s\u001b[0m 2ms/step - accuracy: 0.9500 - loss: 0.1679\n"
          ]
        },
        {
          "output_type": "execute_result",
          "data": {
            "text/plain": [
              "<keras.src.callbacks.history.History at 0x7b07258df110>"
            ]
          },
          "metadata": {},
          "execution_count": 23
        }
      ]
    },
    {
      "cell_type": "code",
      "source": [
        "test_loss, test_accuracy = model.evaluate(X_test, y_test)\n",
        "print(f\"Test Accuracy: {test_accuracy * 100:.2f}%\")"
      ],
      "metadata": {
        "colab": {
          "base_uri": "https://localhost:8080/"
        },
        "id": "a6Yj089KZe6V",
        "outputId": "d5105749-76a1-4c77-e21c-d58a3c0cd0f8"
      },
      "execution_count": null,
      "outputs": [
        {
          "output_type": "stream",
          "name": "stdout",
          "text": [
            "\u001b[1m313/313\u001b[0m \u001b[32m━━━━━━━━━━━━━━━━━━━━\u001b[0m\u001b[37m\u001b[0m \u001b[1m1s\u001b[0m 3ms/step - accuracy: 0.9410 - loss: 0.1980\n",
            "Test Accuracy: 95.16%\n"
          ]
        }
      ]
    },
    {
      "cell_type": "markdown",
      "source": [
        "#So we can see the accuracy has increased upto 94%."
      ],
      "metadata": {
        "id": "tLUZKC96Z01F"
      }
    },
    {
      "cell_type": "code",
      "source": [
        "y_pred = model.predict(X_test)"
      ],
      "metadata": {
        "colab": {
          "base_uri": "https://localhost:8080/"
        },
        "id": "ZMkb15JCaCZE",
        "outputId": "24ac09d2-09a4-4b43-90a6-129191b9e62f"
      },
      "execution_count": null,
      "outputs": [
        {
          "output_type": "stream",
          "name": "stdout",
          "text": [
            "\u001b[1m313/313\u001b[0m \u001b[32m━━━━━━━━━━━━━━━━━━━━\u001b[0m\u001b[37m\u001b[0m \u001b[1m1s\u001b[0m 2ms/step\n"
          ]
        }
      ]
    },
    {
      "cell_type": "code",
      "source": [
        "cmt = confusion_matrix(labels=np.argmax(y_test, axis=1), predictions=np.argmax(y_pred, axis=1))"
      ],
      "metadata": {
        "id": "ofCL3HcmZ6cw"
      },
      "execution_count": null,
      "outputs": []
    },
    {
      "cell_type": "code",
      "source": [
        "sns.heatmap(cmt, annot=True, fmt='d')\n",
        "plt.xlabel('Predicted')\n",
        "plt.ylabel('Actual')\n",
        "plt.show()"
      ],
      "metadata": {
        "colab": {
          "base_uri": "https://localhost:8080/",
          "height": 449
        },
        "id": "dJgQoUW6aE_2",
        "outputId": "e672b97a-37a0-4c91-f499-9aec17e6ad9b"
      },
      "execution_count": null,
      "outputs": [
        {
          "output_type": "display_data",
          "data": {
            "text/plain": [
              "<Figure size 640x480 with 2 Axes>"
            ],
            "image/png": "[encoded data removed]"
          },
          "metadata": {}
        }
      ]
    },
    {
      "cell_type": "markdown",
      "source": [
        "#So we can see the error is less than the previous model."
      ],
      "metadata": {
        "id": "k5yKC3EnaQhh"
      }
    },
    {
      "cell_type": "markdown",
      "source": [
        "#**Let's try it for more better accuracy**"
      ],
      "metadata": {
        "id": "VgsfVSprbCJy"
      }
    },
    {
      "cell_type": "code",
      "source": [
        "model = Sequential([\n",
        "    Input(shape=(28,28)),\n",
        "    Flatten(),\n",
        "\n",
        "    Dense(128, activation='relu'),\n",
        "    Dropout(0.3),  # Prevent overfitting\n",
        "\n",
        "    Dense(64, activation='relu'),\n",
        "    Dropout(0.3),  # Optional\n",
        "\n",
        "    Dense(10, activation='softmax')  # Use softmax for multi-class classification\n",
        "])\n",
        "\n",
        "model.compile(\n",
        "    optimizer='adam',\n",
        "    loss='categorical_crossentropy',\n",
        "    metrics=['accuracy']\n",
        ")\n",
        "\n",
        "model.fit(X_train, y_train, epochs=10, batch_size=128, validation_split=0.1)"
      ],
      "metadata": {
        "colab": {
          "base_uri": "https://localhost:8080/"
        },
        "id": "8uhYI6PfbHYC",
        "outputId": "ae77b6f1-626b-489a-b6b0-28214526c9bd"
      },
      "execution_count": null,
      "outputs": [
        {
          "output_type": "stream",
          "name": "stdout",
          "text": [
            "Epoch 1/10\n",
            "\u001b[1m422/422\u001b[0m \u001b[32m━━━━━━━━━━━━━━━━━━━━\u001b[0m\u001b[37m\u001b[0m \u001b[1m6s\u001b[0m 8ms/step - accuracy: 0.7121 - loss: 0.9057 - val_accuracy: 0.9568 - val_loss: 0.1538\n",
            "Epoch 2/10\n",
            "\u001b[1m422/422\u001b[0m \u001b[32m━━━━━━━━━━━━━━━━━━━━\u001b[0m\u001b[37m\u001b[0m \u001b[1m1s\u001b[0m 3ms/step - accuracy: 0.9238 - loss: 0.2676 - val_accuracy: 0.9690 - val_loss: 0.1142\n",
            "Epoch 3/10\n",
            "\u001b[1m422/422\u001b[0m \u001b[32m━━━━━━━━━━━━━━━━━━━━\u001b[0m\u001b[37m\u001b[0m \u001b[1m1s\u001b[0m 3ms/step - accuracy: 0.9428 - loss: 0.1997 - val_accuracy: 0.9708 - val_loss: 0.0981\n",
            "Epoch 4/10\n",
            "\u001b[1m422/422\u001b[0m \u001b[32m━━━━━━━━━━━━━━━━━━━━\u001b[0m\u001b[37m\u001b[0m \u001b[1m2s\u001b[0m 4ms/step - accuracy: 0.9509 - loss: 0.1676 - val_accuracy: 0.9738 - val_loss: 0.0832\n",
            "Epoch 5/10\n",
            "\u001b[1m422/422\u001b[0m \u001b[32m━━━━━━━━━━━━━━━━━━━━\u001b[0m\u001b[37m\u001b[0m \u001b[1m1s\u001b[0m 3ms/step - accuracy: 0.9580 - loss: 0.1425 - val_accuracy: 0.9752 - val_loss: 0.0816\n",
            "Epoch 6/10\n",
            "\u001b[1m422/422\u001b[0m \u001b[32m━━━━━━━━━━━━━━━━━━━━\u001b[0m\u001b[37m\u001b[0m \u001b[1m1s\u001b[0m 3ms/step - accuracy: 0.9609 - loss: 0.1332 - val_accuracy: 0.9785 - val_loss: 0.0744\n",
            "Epoch 7/10\n",
            "\u001b[1m422/422\u001b[0m \u001b[32m━━━━━━━━━━━━━━━━━━━━\u001b[0m\u001b[37m\u001b[0m \u001b[1m1s\u001b[0m 3ms/step - accuracy: 0.9644 - loss: 0.1204 - val_accuracy: 0.9753 - val_loss: 0.0777\n",
            "Epoch 8/10\n",
            "\u001b[1m422/422\u001b[0m \u001b[32m━━━━━━━━━━━━━━━━━━━━\u001b[0m\u001b[37m\u001b[0m \u001b[1m1s\u001b[0m 3ms/step - accuracy: 0.9661 - loss: 0.1138 - val_accuracy: 0.9793 - val_loss: 0.0724\n",
            "Epoch 9/10\n",
            "\u001b[1m422/422\u001b[0m \u001b[32m━━━━━━━━━━━━━━━━━━━━\u001b[0m\u001b[37m\u001b[0m \u001b[1m1s\u001b[0m 3ms/step - accuracy: 0.9694 - loss: 0.0980 - val_accuracy: 0.9792 - val_loss: 0.0701\n",
            "Epoch 10/10\n",
            "\u001b[1m422/422\u001b[0m \u001b[32m━━━━━━━━━━━━━━━━━━━━\u001b[0m\u001b[37m\u001b[0m \u001b[1m1s\u001b[0m 3ms/step - accuracy: 0.9719 - loss: 0.0925 - val_accuracy: 0.9800 - val_loss: 0.0682\n"
          ]
        },
        {
          "output_type": "execute_result",
          "data": {
            "text/plain": [
              "<keras.src.callbacks.history.History at 0x7b06d9945450>"
            ]
          },
          "metadata": {},
          "execution_count": 28
        }
      ]
    },
    {
      "cell_type": "code",
      "source": [
        "test_loss, test_accuracy = model.evaluate(X_test, y_test)\n",
        "print(f\"Test Accuracy: {test_accuracy * 100:.2f}%\")"
      ],
      "metadata": {
        "colab": {
          "base_uri": "https://localhost:8080/"
        },
        "id": "79p68AIVcigv",
        "outputId": "175f7e3d-6b05-49d6-aeb1-3a414078b5a5"
      },
      "execution_count": null,
      "outputs": [
        {
          "output_type": "stream",
          "name": "stdout",
          "text": [
            "\u001b[1m313/313\u001b[0m \u001b[32m━━━━━━━━━━━━━━━━━━━━\u001b[0m\u001b[37m\u001b[0m \u001b[1m1s\u001b[0m 3ms/step - accuracy: 0.9736 - loss: 0.0937\n",
            "Test Accuracy: 97.72%\n"
          ]
        }
      ]
    },
    {
      "cell_type": "markdown",
      "source": [
        "#Why this model is improved:\n",
        "- Larger layers with more neurons(128 and 64 in the hidden layer)\n",
        "- `Dropout(0.3)` randomly disables 30% of neurons during training to prevent overfitting\n",
        "- `Softmax` in the output layer works better as it is multiclass classification.\n",
        "- `epochs=10 and batch_size=128` works better during training so that model can learn well.\n",
        "- `validation_split=0.1` keeps 10% of data aside for validation."
      ],
      "metadata": {
        "id": "F6SrVBsVdBvq"
      }
    },
    {
      "cell_type": "code",
      "source": [
        "y_pred = model.predict(X_test)"
      ],
      "metadata": {
        "id": "7_8Tzmnj8f2o",
        "outputId": "43ca6dac-f1e0-4b1f-f0b0-50f7cc9c4809",
        "colab": {
          "base_uri": "https://localhost:8080/"
        }
      },
      "execution_count": null,
      "outputs": [
        {
          "output_type": "stream",
          "name": "stdout",
          "text": [
            "\u001b[1m313/313\u001b[0m \u001b[32m━━━━━━━━━━━━━━━━━━━━\u001b[0m\u001b[37m\u001b[0m \u001b[1m1s\u001b[0m 2ms/step\n"
          ]
        }
      ]
    },
    {
      "cell_type": "code",
      "source": [
        "cmt = confusion_matrix(labels=np.argmax(y_test, axis=1), predictions=np.argmax(y_pred, axis=1))"
      ],
      "metadata": {
        "id": "sCnIWCZU8lvZ"
      },
      "execution_count": null,
      "outputs": []
    },
    {
      "cell_type": "code",
      "source": [
        "sns.heatmap(cmt, annot=True, fmt='d')\n",
        "plt.xlabel('Predicted')\n",
        "plt.ylabel('Actual')\n",
        "plt.show()"
      ],
      "metadata": {
        "id": "YbNsSw4n8o4w",
        "outputId": "009aca0b-0947-4cd4-eafc-d4bb28791e97",
        "colab": {
          "base_uri": "https://localhost:8080/",
          "height": 449
        }
      },
      "execution_count": null,
      "outputs": [
        {
          "output_type": "display_data",
          "data": {
            "text/plain": [
              "<Figure size 640x480 with 2 Axes>"
            ],
            "image/png": "[encoded data removed]"
          },
          "metadata": {}
        }
      ]
    },
    {
      "cell_type": "markdown",
      "source": [
        "#**Some fundamental concepts and questions**"
      ],
      "metadata": {
        "id": "PbOaKC6-a43N"
      }
    },
    {
      "cell_type": "markdown",
      "source": [
        "#**1. Activation Function**\n",
        "**What is activation function?**\n",
        "\n",
        "An activation function is a mathematical function applied to the output of a neuron in a neural network. It determines whether a neuron should \"fire\" or not. In simple terms:\n",
        "\n",
        "The neuron takes inputs → does some math → applies the activation function → produces output.\n",
        "\n",
        "Without activation function, a neural network is just like a **linear transformation**. This means it can only solve problems like straight-line classification. Activation functions let neural networks learn complex, non-linear patterns\n",
        "\n",
        "There are various types of activation function used such as sigmoid, tanh, ReLU, Leaky ReLU, softmax.\n",
        "\n",
        "- **Sigmoid function:**\n",
        "$$sigmoid(z) = \\frac{1}{1 + e^{-z}}$$\n",
        " - good for binary classification\n",
        " - output between 0 and 1.\n",
        " - Have some problems like vanishing gradient, not zero centered.\n",
        "\n",
        "- **tanh function**\n",
        "$$tanh(z) = \\frac{e^z - e^{-z}}{e^z + e^{-z}}$$\n",
        " - Outputs values between -1 and 1\n",
        " - zero centered ; better than sigmoid\n",
        " - still suffer from vanishing gradient\n",
        "\n",
        "- **ReLU(Rectified Logical Unit)**\n",
        "$$relu(x) = max(0, x)$$\n",
        " - Fast and simple.\n",
        " - Vanishing gradient problem solved.\n",
        " - Not zero centered.\n",
        " - Dying ReLU problem; some neurons are dead for negative inputs.\n",
        " - Works well in CNN and DNN.\n",
        "\n",
        "- **Leaky ReLU**\n",
        "$$\n",
        "f(x) =\n",
        "\\begin{cases}\n",
        "\\alpha x, & \\text{if } x < 0 \\\\\n",
        "x, & \\text{otherwise}\n",
        "\\end{cases}\n",
        "$$\n",
        " - Solved dying ReLU problem.\n",
        " - The value of alpha needs to be tuned (e.g.,0.01)\n",
        "\n",
        "- **Softmax**\n",
        "$$\\sigma(z_i)= \\frac{e^{z_i}}{\\sum_{j=1}^{k}e^{z_j}}$$\n",
        "  - converts a vector of raw scores (logits) from the output layer into probabilities.\n",
        "  - Only for multi-class output layer\n",
        "  - `loss=\"categorical_crossentropy\"`if the final output layer uses softmax.\n",
        "  \n",
        "\n",
        "**Hidden layers' activation functions do not affect the loss function. It only depends on the final layer's activation function.**"
      ],
      "metadata": {
        "id": "ZBPD6ZVfbRhp"
      }
    },
    {
      "cell_type": "markdown",
      "source": [
        "#**2. Loss or Cost function?**\n",
        "**What is a loss/cost function?**\n",
        "- A loss function is a mathematical formula that tells the model how wrong its predictions are compared to the actual labels.\n",
        "It quantifies the error between the predicted output and the true output.\n",
        "\n",
        "There are multiple cost functions we can see.\n",
        "\n",
        "- Mean absolute error:\n",
        "$$MAE = \\frac{1}{n}\\sum_{i=1}^{n}abs(y_i - \\hat{y_i})$$\n",
        " - Used in Regression problem (House price, temperature prediction etc.)\n",
        " - better handle outliers than the MSE.\n",
        "\n",
        "- Mean Squared Error:\n",
        "$$MSE = \\frac{1}{n}\\sum_{i=1}^{n}(y_i - \\hat{y_i})^2$$\n",
        " - Also in regression problem.\n",
        "\n",
        "- Binary Crossentropy ( log loss):\n",
        "$$Loss = - \\frac{1}{n} \\sum_{i=1}^{n}[y_i \\log(\\hat{y_i}) + (1-y_i) \\log(1 - \\hat{y_i})]$$\n",
        " - Used for binary classification (e.g., spam vs. not spam, fire vs. no fire)\n",
        " - $y_i \\in (0, 1)$\n",
        " - Output layer should use **sigmoid**.\n",
        "\n",
        "- Categorical Crossentropy:\n",
        "$$Loss =-\\sum_{i=1}^{n}\\sum_{j=1}^{C}y_{ij} \\log(\\hat{y_{ij} })$$\n",
        " - Here C = number of classes in the classification task.\n",
        " - Used in Multi-Class Classification (one-hot labels)\n",
        " - $y_{ij} = 1$ if class j is correct, else 0\n",
        " - Used when labels are **one hot encoded ([0, 0, 1, 0, 0, 0])**\n",
        " - Use **softmax** in the final layer.\n",
        "\n",
        "- Sparse Categorical Crossentropy: similar to categorical crossentropy\n",
        " - Used when labels are integers such as 3.\n"
      ],
      "metadata": {
        "id": "6oDsu5zNIby2"
      }
    },
    {
      "cell_type": "markdown",
      "source": [
        "#**What is One Hot Encoding?**\n",
        "One-hot encoding is a method of representing categorical labels (like class names) as binary vectors, where:\n",
        "- One value is set to 1 (the \"hot\" one)\n",
        "- All others are set to 0\n",
        "\n",
        "Suppose our label is 3 (i.e., the image contains the digit 3).\n",
        "One-hot encoded vector would look like:\n",
        "$$[0, 0, 0, 1, 0, 0, 0, 0, 0, 0]$$\n",
        " - Length of vector = number of classes = 10\n",
        " - The index 3 is marked as 1 → all others are 0.\n",
        "\n",
        "Neural networks output probability distributions over classes.\n",
        "$$[0.02, 0.01, 0.03, 0.85, 0.04, 0.01, 0.01, 0.01, 0.01, 0.01]$$\n",
        "We use one-hot encoded labels to compute the loss (like categorical crossentropy) between the predicted probability and the actual truth vector.\n"
      ],
      "metadata": {
        "id": "vKwkfeblnVnY"
      }
    },
    {
      "cell_type": "markdown",
      "source": [
        "#**What is epochs and batch_size?**\n",
        "`epoch`: An epoch is one full pass through the entire training dataset by the model.\n",
        "\n",
        "`batch_size`: batch_size is used to split the dataset into smaller unit so that the model can learn well. After one batch size sample given to the model, model will update its weight and then it will go for next batch.\n",
        "\n",
        "By doing this, the model will complete each epochs through multiple batches.\n",
        "\n",
        "**The first `Dense` layer should contain the neuron number as same as the batch_size.**"
      ],
      "metadata": {
        "id": "IN_A6_8VHozI"
      }
    },
    {
      "cell_type": "code",
      "source": [],
      "metadata": {
        "id": "yHmJTuMu4Kyg"
      },
      "execution_count": null,
      "outputs": []
    }
  ]
}