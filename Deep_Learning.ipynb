{
  "nbformat": 4,
  "nbformat_minor": 0,
  "metadata": {
    "colab": {
      "provenance": [],
      "authorship_tag": "ABX9TyPlxjBJrHsM8m8kRwKXAq2q",
      "include_colab_link": true
    },
    "kernelspec": {
      "name": "python3",
      "display_name": "Python 3"
    },
    "language_info": {
      "name": "python"
    }
  },
  "cells": [
    {
      "cell_type": "markdown",
      "metadata": {
        "id": "view-in-github",
        "colab_type": "text"
      },
      "source": [
        "<a href=\"https://colab.research.google.com/github/Numanur/data-science-ml/blob/main/Deep_Learning.ipynb\" target=\"_parent\"><img src=\"https://colab.research.google.com/assets/colab-badge.svg\" alt=\"Open In Colab\"/></a>"
      ]
    },
    {
      "cell_type": "markdown",
      "source": [
        "#**Deep Learning and Neural Network**"
      ],
      "metadata": {
        "id": "_IibJfkhHIf6"
      }
    },
    {
      "cell_type": "markdown",
      "source": [
        "This notebook helps to understand deep learning specially neural network. We will learn this step by step."
      ],
      "metadata": {
        "id": "OxokuJcsHQyK"
      }
    },
    {
      "cell_type": "markdown",
      "source": [
        "**What is a Neuron?**\n",
        "\n",
        "A neuron is the fundamental building block of a neural network that receives inputs, processes them (by applying weights, adding a bias, and passing through an activation function), and produces an output.\n",
        "\n",
        "Let’s say a neuron gets 3 inputs:\n",
        "\n",
        "$$𝑥_1, x_2. x_3$$\n",
        "\n",
        "And it has weights:\n",
        "$$w_1, w_2, w_3$$\n",
        "And a bias:\n",
        "$$b$$\n",
        "The neuron computes:\n",
        "$$z = w_1*x_1+w_2*x_2+w_3*x_3 + b$$\n",
        "Then it applies an activation function (like sigmoid, ReLU, etc.):\n",
        "$$a = activation(z)$$\n",
        "Here, a is the neuron's output.\n",
        "\n",
        "**A logistic regression model is basically a one-layer neural network with one neuron.**"
      ],
      "metadata": {
        "id": "RGscsv9BHeLP"
      }
    },
    {
      "cell_type": "code",
      "source": [],
      "metadata": {
        "id": "mcxms3kwduRb"
      },
      "execution_count": null,
      "outputs": []
    }
  ]
}