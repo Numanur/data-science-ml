{
  "nbformat": 4,
  "nbformat_minor": 0,
  "metadata": {
    "colab": {
      "provenance": [],
      "gpuType": "T4",
      "authorship_tag": "ABX9TyOoI4Hu4/apDF71rvnHny5T",
      "include_colab_link": true
    },
    "kernelspec": {
      "name": "python3",
      "display_name": "Python 3"
    },
    "language_info": {
      "name": "python"
    },
    "accelerator": "GPU"
  },
  "cells": [
    {
      "cell_type": "markdown",
      "metadata": {
        "id": "view-in-github",
        "colab_type": "text"
      },
      "source": [
        "<a href=\"https://colab.research.google.com/github/Numanur/data-science-ml/blob/main/Deep_Learning.ipynb\" target=\"_parent\"><img src=\"https://colab.research.google.com/assets/colab-badge.svg\" alt=\"Open In Colab\"/></a>"
      ]
    },
    {
      "cell_type": "markdown",
      "source": [
        "#**Deep Learning and Neural Network**"
      ],
      "metadata": {
        "id": "_IibJfkhHIf6"
      }
    },
    {
      "cell_type": "markdown",
      "source": [
        "This notebook helps to understand deep learning specially neural network. We will learn this step by step."
      ],
      "metadata": {
        "id": "OxokuJcsHQyK"
      }
    },
    {
      "cell_type": "markdown",
      "source": [
        "**What is a Neuron?**\n",
        "\n",
        "A neuron is the fundamental building block of a neural network that receives inputs, processes them (by applying weights, adding a bias, and passing through an activation function), and produces an output.\n",
        "\n",
        "Let’s say a neuron gets 3 inputs:\n",
        "\n",
        "$$𝑥_1, x_2. x_3$$\n",
        "\n",
        "And it has weights:\n",
        "$$w_1, w_2, w_3$$\n",
        "And a bias:\n",
        "$$b$$\n",
        "The neuron computes:\n",
        "$$z = w_1*x_1+w_2*x_2+w_3*x_3 + b$$\n",
        "Then it applies an activation function (like sigmoid, ReLU, etc.):\n",
        "$$a = activation(z)$$\n",
        "Here, a is the neuron's output.\n",
        "\n",
        "**A logistic regression model is basically a one-layer neural network with one neuron.**"
      ],
      "metadata": {
        "id": "RGscsv9BHeLP"
      }
    },
    {
      "cell_type": "code",
      "source": [
        "import tensorflow\n"
      ],
      "metadata": {
        "id": "mcxms3kwduRb"
      },
      "execution_count": 1,
      "outputs": []
    },
    {
      "cell_type": "code",
      "source": [
        "tensorflow.__version__"
      ],
      "metadata": {
        "id": "MFPRIPjZZmba",
        "outputId": "887c7af9-910f-4757-f72f-2e737ce7ef3d",
        "colab": {
          "base_uri": "https://localhost:8080/",
          "height": 35
        }
      },
      "execution_count": 2,
      "outputs": [
        {
          "output_type": "execute_result",
          "data": {
            "text/plain": [
              "'2.18.0'"
            ],
            "application/vnd.google.colaboratory.intrinsic+json": {
              "type": "string"
            }
          },
          "metadata": {},
          "execution_count": 2
        }
      ]
    },
    {
      "cell_type": "markdown",
      "source": [
        "#**At first, we will look a neural network for hand written digit detection**\n",
        "We will split each image into 28*28 pixels=784 pixels."
      ],
      "metadata": {
        "id": "Va3YL9JfZvPY"
      }
    },
    {
      "cell_type": "code",
      "source": [
        "import tensorflow as tf\n",
        "from tensorflow.keras.datasets import mnist\n",
        "from tensorflow.keras.models import Sequential\n",
        "from tensorflow.keras.layers import Dense, Flatten\n",
        "from tensorflow.keras.utils import to_categorical\n",
        "import numpy as np\n",
        "import matplotlib.pyplot as plt\n"
      ],
      "metadata": {
        "id": "ZXvj7M7OeLna"
      },
      "execution_count": 3,
      "outputs": []
    },
    {
      "cell_type": "code",
      "source": [
        "(X_train, y_train), (X_test, y_test) = mnist.load_data()"
      ],
      "metadata": {
        "id": "YSL8rpTOfRZt",
        "outputId": "67e39d6a-998b-4ced-ec95-107cff46840f",
        "colab": {
          "base_uri": "https://localhost:8080/"
        }
      },
      "execution_count": 4,
      "outputs": [
        {
          "output_type": "stream",
          "name": "stdout",
          "text": [
            "Downloading data from https://storage.googleapis.com/tensorflow/tf-keras-datasets/mnist.npz\n",
            "\u001b[1m11490434/11490434\u001b[0m \u001b[32m━━━━━━━━━━━━━━━━━━━━\u001b[0m\u001b[37m\u001b[0m \u001b[1m0s\u001b[0m 0us/step\n"
          ]
        }
      ]
    },
    {
      "cell_type": "code",
      "source": [
        "len(X_train), len(X_test), len(y_train), len(y_test)"
      ],
      "metadata": {
        "id": "uUV61CSdfjtN",
        "outputId": "07553830-e621-4837-b130-0cb4ad836b07",
        "colab": {
          "base_uri": "https://localhost:8080/"
        }
      },
      "execution_count": 5,
      "outputs": [
        {
          "output_type": "execute_result",
          "data": {
            "text/plain": [
              "(60000, 10000, 60000, 10000)"
            ]
          },
          "metadata": {},
          "execution_count": 5
        }
      ]
    },
    {
      "cell_type": "code",
      "source": [
        "X_train.shape"
      ],
      "metadata": {
        "id": "EguoBxhGgAaJ",
        "outputId": "a2a31c63-695f-4463-b55b-be7089a43862",
        "colab": {
          "base_uri": "https://localhost:8080/"
        }
      },
      "execution_count": 6,
      "outputs": [
        {
          "output_type": "execute_result",
          "data": {
            "text/plain": [
              "(60000, 28, 28)"
            ]
          },
          "metadata": {},
          "execution_count": 6
        }
      ]
    },
    {
      "cell_type": "code",
      "source": [
        "plt.matshow(X_train[59999])"
      ],
      "metadata": {
        "id": "qrsnyb8FgHx7",
        "outputId": "ee1922cc-94e4-4414-c365-eff004c8c181",
        "colab": {
          "base_uri": "https://localhost:8080/",
          "height": 454
        }
      },
      "execution_count": 20,
      "outputs": [
        {
          "output_type": "execute_result",
          "data": {
            "text/plain": [
              "<matplotlib.image.AxesImage at 0x7c38f3979e90>"
            ]
          },
          "metadata": {},
          "execution_count": 20
        },
        {
          "output_type": "display_data",
          "data": {
            "text/plain": [
              "<Figure size 480x480 with 1 Axes>"
            ],
            "image/png": "[encoded data removed]"
          },
          "metadata": {}
        }
      ]
    },
    {
      "cell_type": "code",
      "source": [
        "y_train[59999]"
      ],
      "metadata": {
        "id": "PP4Lu2xwg03N",
        "outputId": "836205b8-013c-4f19-8fd1-3ad1316ef0b4",
        "colab": {
          "base_uri": "https://localhost:8080/"
        }
      },
      "execution_count": 8,
      "outputs": [
        {
          "output_type": "execute_result",
          "data": {
            "text/plain": [
              "np.uint8(8)"
            ]
          },
          "metadata": {},
          "execution_count": 8
        }
      ]
    },
    {
      "cell_type": "markdown",
      "source": [
        "#Normalize from int to float for efficiency"
      ],
      "metadata": {
        "id": "Yf8Bzff9kI7q"
      }
    },
    {
      "cell_type": "code",
      "source": [
        "X_train = X_train / 255.0\n",
        "X_test = X_test / 255.0"
      ],
      "metadata": {
        "id": "dRj22b_ukO9w"
      },
      "execution_count": 9,
      "outputs": []
    },
    {
      "cell_type": "markdown",
      "source": [
        "**One hot encoding for Y data**"
      ],
      "metadata": {
        "id": "eZpfhCvxkTf1"
      }
    },
    {
      "cell_type": "code",
      "source": [
        "y_train = to_categorical(y_train, 10)\n",
        "y_test = to_categorical(y_test, 10)"
      ],
      "metadata": {
        "id": "q4Ee3xBfkbtO"
      },
      "execution_count": 10,
      "outputs": []
    },
    {
      "cell_type": "markdown",
      "source": [
        "**We will use only two layers(input and output) layer. There will be no hidden layer.**\n",
        "Also out activation function is **Sigmoid**"
      ],
      "metadata": {
        "id": "i-htt91Dkg6o"
      }
    },
    {
      "cell_type": "code",
      "source": [
        "model = Sequential([\n",
        "    Flatten(input_shape=(28, 28)),\n",
        "    Dense(10, activation='sigmoid')\n",
        "])"
      ],
      "metadata": {
        "id": "rfsEE4BYksS4",
        "outputId": "8ae33201-0e72-4b6d-b7f7-e80d86c4f46e",
        "colab": {
          "base_uri": "https://localhost:8080/"
        }
      },
      "execution_count": 11,
      "outputs": [
        {
          "output_type": "stream",
          "name": "stderr",
          "text": [
            "/usr/local/lib/python3.11/dist-packages/keras/src/layers/reshaping/flatten.py:37: UserWarning: Do not pass an `input_shape`/`input_dim` argument to a layer. When using Sequential models, prefer using an `Input(shape)` object as the first layer in the model instead.\n",
            "  super().__init__(**kwargs)\n"
          ]
        }
      ]
    },
    {
      "cell_type": "markdown",
      "source": [
        "**Now we have to compile the model**\n",
        "\n",
        "We will use `categorical_crossentropy` as loss function because we are using one hot encoding."
      ],
      "metadata": {
        "id": "znIdLZRalb6F"
      }
    },
    {
      "cell_type": "code",
      "source": [
        "model.compile(\n",
        "    optimizer='adam',\n",
        "    loss='categorical_crossentropy',\n",
        "    metrics=['accuracy']\n",
        ")"
      ],
      "metadata": {
        "id": "e5hi43lolwyq"
      },
      "execution_count": 12,
      "outputs": []
    },
    {
      "cell_type": "markdown",
      "source": [
        "**Now after compiling the model, we will have to fit with the training data**\n",
        "\n",
        "#Change the runtime into GPU"
      ],
      "metadata": {
        "id": "EJFHVW0zmNqQ"
      }
    },
    {
      "cell_type": "code",
      "source": [
        "model.fit(X_train, y_train, epochs=5, validation_split=0.1)"
      ],
      "metadata": {
        "id": "tezGuy20md5V",
        "outputId": "855fbf82-4433-45e8-905b-5af53361e656",
        "colab": {
          "base_uri": "https://localhost:8080/"
        }
      },
      "execution_count": 36,
      "outputs": [
        {
          "output_type": "stream",
          "name": "stdout",
          "text": [
            "Epoch 1/5\n",
            "\u001b[1m1688/1688\u001b[0m \u001b[32m━━━━━━━━━━━━━━━━━━━━\u001b[0m\u001b[37m\u001b[0m \u001b[1m4s\u001b[0m 2ms/step - accuracy: 0.9364 - loss: 0.2327 - val_accuracy: 0.9378 - val_loss: 0.2334\n",
            "Epoch 2/5\n",
            "\u001b[1m1688/1688\u001b[0m \u001b[32m━━━━━━━━━━━━━━━━━━━━\u001b[0m\u001b[37m\u001b[0m \u001b[1m5s\u001b[0m 3ms/step - accuracy: 0.9347 - loss: 0.2326 - val_accuracy: 0.9378 - val_loss: 0.2327\n",
            "Epoch 3/5\n",
            "\u001b[1m1688/1688\u001b[0m \u001b[32m━━━━━━━━━━━━━━━━━━━━\u001b[0m\u001b[37m\u001b[0m \u001b[1m5s\u001b[0m 2ms/step - accuracy: 0.9366 - loss: 0.2279 - val_accuracy: 0.9385 - val_loss: 0.2319\n",
            "Epoch 4/5\n",
            "\u001b[1m1688/1688\u001b[0m \u001b[32m━━━━━━━━━━━━━━━━━━━━\u001b[0m\u001b[37m\u001b[0m \u001b[1m5s\u001b[0m 3ms/step - accuracy: 0.9353 - loss: 0.2331 - val_accuracy: 0.9380 - val_loss: 0.2361\n",
            "Epoch 5/5\n",
            "\u001b[1m1688/1688\u001b[0m \u001b[32m━━━━━━━━━━━━━━━━━━━━\u001b[0m\u001b[37m\u001b[0m \u001b[1m6s\u001b[0m 3ms/step - accuracy: 0.9350 - loss: 0.2291 - val_accuracy: 0.9377 - val_loss: 0.2336\n"
          ]
        },
        {
          "output_type": "execute_result",
          "data": {
            "text/plain": [
              "<keras.src.callbacks.history.History at 0x7c38f4134410>"
            ]
          },
          "metadata": {},
          "execution_count": 36
        }
      ]
    },
    {
      "cell_type": "code",
      "source": [
        "test_loss, test_accuracy = model.evaluate(X_test, y_test)\n",
        "print(f\"Test Accuracy: {test_accuracy * 100:.2f}%\")\n"
      ],
      "metadata": {
        "id": "DwUeOUcysHUC",
        "outputId": "ceea3101-e42d-4d40-9b45-045927d4a402",
        "colab": {
          "base_uri": "https://localhost:8080/"
        }
      },
      "execution_count": 38,
      "outputs": [
        {
          "output_type": "stream",
          "name": "stdout",
          "text": [
            "\u001b[1m313/313\u001b[0m \u001b[32m━━━━━━━━━━━━━━━━━━━━\u001b[0m\u001b[37m\u001b[0m \u001b[1m1s\u001b[0m 2ms/step - accuracy: 0.9168 - loss: 0.3166\n",
            "Test Accuracy: 92.69%\n"
          ]
        }
      ]
    },
    {
      "cell_type": "markdown",
      "source": [
        "**I gave epochs=25 for better accuracy. In real time work, epochs is normally 10**"
      ],
      "metadata": {
        "id": "HlT91r6lnNBg"
      }
    },
    {
      "cell_type": "code",
      "source": [
        "plt.matshow(X_test[0])"
      ],
      "metadata": {
        "id": "rdEe0kx8odjm",
        "outputId": "7ab57982-ee8d-41fb-d5a5-753b9154ab06",
        "colab": {
          "base_uri": "https://localhost:8080/",
          "height": 454
        }
      },
      "execution_count": 21,
      "outputs": [
        {
          "output_type": "execute_result",
          "data": {
            "text/plain": [
              "<matplotlib.image.AxesImage at 0x7c38f3c03610>"
            ]
          },
          "metadata": {},
          "execution_count": 21
        },
        {
          "output_type": "display_data",
          "data": {
            "text/plain": [
              "<Figure size 480x480 with 1 Axes>"
            ],
            "image/png": "[encoded data removed]"
          },
          "metadata": {}
        }
      ]
    },
    {
      "cell_type": "code",
      "source": [
        "y_pred = model.predict(X_test)"
      ],
      "metadata": {
        "id": "SXeoN-ZBos74",
        "outputId": "7b763343-ac2a-48d3-cceb-cd7f1ea947b9",
        "colab": {
          "base_uri": "https://localhost:8080/"
        }
      },
      "execution_count": 23,
      "outputs": [
        {
          "output_type": "stream",
          "name": "stdout",
          "text": [
            "\u001b[1m313/313\u001b[0m \u001b[32m━━━━━━━━━━━━━━━━━━━━\u001b[0m\u001b[37m\u001b[0m \u001b[1m0s\u001b[0m 1ms/step\n"
          ]
        }
      ]
    },
    {
      "cell_type": "code",
      "source": [
        "sample_image = X_test[1]\n",
        "plt.imshow(sample_image, cmap='gray')\n",
        "plt.title(f\"Actual Label: {np.argmax(y_test[1])}\")\n",
        "plt.show()"
      ],
      "metadata": {
        "id": "AGhWYXAWpVnM",
        "outputId": "6e840dec-7617-4489-9c8a-9d007e216648",
        "colab": {
          "base_uri": "https://localhost:8080/",
          "height": 452
        }
      },
      "execution_count": 32,
      "outputs": [
        {
          "output_type": "display_data",
          "data": {
            "text/plain": [
              "<Figure size 640x480 with 1 Axes>"
            ],
            "image/png": "[encoded data removed]"
          },
          "metadata": {}
        }
      ]
    },
    {
      "cell_type": "code",
      "source": [
        "prediction = model.predict(sample_image.reshape(1, 28, 28))\n",
        "print(\"Predicted Label:\", np.argmax(prediction))"
      ],
      "metadata": {
        "id": "T_6uaZTHruXD",
        "outputId": "616da6ad-a669-4cbb-88e0-2720a316f885",
        "colab": {
          "base_uri": "https://localhost:8080/"
        }
      },
      "execution_count": 33,
      "outputs": [
        {
          "output_type": "stream",
          "name": "stdout",
          "text": [
            "\u001b[1m1/1\u001b[0m \u001b[32m━━━━━━━━━━━━━━━━━━━━\u001b[0m\u001b[37m\u001b[0m \u001b[1m0s\u001b[0m 40ms/step\n",
            "Predicted Label: 2\n"
          ]
        }
      ]
    }
  ]
}