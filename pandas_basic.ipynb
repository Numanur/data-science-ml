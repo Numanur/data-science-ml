{
 "cells": [
  {
   "cell_type": "code",
   "execution_count": 4,
   "id": "74c04d34-06ff-4053-ab38-af8eef68939f",
   "metadata": {},
   "outputs": [],
   "source": [
    "import pandas as pd"
   ]
  },
  {
   "cell_type": "code",
   "execution_count": 5,
   "id": "61fbb541-090b-47f6-9056-0ba767c6b619",
   "metadata": {},
   "outputs": [
    {
     "name": "stdout",
     "output_type": "stream",
     "text": [
      "0     Noman\n",
      "1     Rakib\n",
      "2     Rifat\n",
      "3    Shimul\n",
      "4     Abeer\n",
      "dtype: object\n"
     ]
    }
   ],
   "source": [
    "series = pd.Series([\"Noman\", \"Rakib\", \"Rifat\", \"Shimul\", \"Abeer\"])\n",
    "print(series.head())"
   ]
  },
  {
   "cell_type": "code",
   "execution_count": 6,
   "id": "2d7ca7dc-a5bd-42aa-91d3-1349b10c564f",
   "metadata": {},
   "outputs": [
    {
     "name": "stdout",
     "output_type": "stream",
     "text": [
      "  student_name  age\n",
      "0        Noman   25\n",
      "1        Rakib   24\n",
      "2        Rifat   26\n",
      "3       Shimul   25\n",
      "4        Abeer   21\n"
     ]
    }
   ],
   "source": [
    "df = pd.DataFrame({\"student_name\":series, \"age\":[25, 24, 26, 25, 21]})\n",
    "print(df.head())"
   ]
  },
  {
   "cell_type": "code",
   "execution_count": 7,
   "id": "2fdf5eb0-5df5-47c3-b5e6-3cd77302be7f",
   "metadata": {},
   "outputs": [
    {
     "data": {
      "text/html": [
       "<div>\n",
       "<style scoped>\n",
       "    .dataframe tbody tr th:only-of-type {\n",
       "        vertical-align: middle;\n",
       "    }\n",
       "\n",
       "    .dataframe tbody tr th {\n",
       "        vertical-align: top;\n",
       "    }\n",
       "\n",
       "    .dataframe thead th {\n",
       "        text-align: right;\n",
       "    }\n",
       "</style>\n",
       "<table border=\"1\" class=\"dataframe\">\n",
       "  <thead>\n",
       "    <tr style=\"text-align: right;\">\n",
       "      <th></th>\n",
       "      <th>student_name</th>\n",
       "      <th>age</th>\n",
       "    </tr>\n",
       "  </thead>\n",
       "  <tbody>\n",
       "    <tr>\n",
       "      <th>0</th>\n",
       "      <td>Noman</td>\n",
       "      <td>25</td>\n",
       "    </tr>\n",
       "    <tr>\n",
       "      <th>1</th>\n",
       "      <td>Rakib</td>\n",
       "      <td>24</td>\n",
       "    </tr>\n",
       "    <tr>\n",
       "      <th>2</th>\n",
       "      <td>Rifat</td>\n",
       "      <td>26</td>\n",
       "    </tr>\n",
       "    <tr>\n",
       "      <th>3</th>\n",
       "      <td>Shimul</td>\n",
       "      <td>25</td>\n",
       "    </tr>\n",
       "    <tr>\n",
       "      <th>4</th>\n",
       "      <td>Abeer</td>\n",
       "      <td>21</td>\n",
       "    </tr>\n",
       "  </tbody>\n",
       "</table>\n",
       "</div>"
      ],
      "text/plain": [
       "  student_name  age\n",
       "0        Noman   25\n",
       "1        Rakib   24\n",
       "2        Rifat   26\n",
       "3       Shimul   25\n",
       "4        Abeer   21"
      ]
     },
     "execution_count": 7,
     "metadata": {},
     "output_type": "execute_result"
    }
   ],
   "source": [
    "df"
   ]
  },
  {
   "cell_type": "code",
   "execution_count": 9,
   "id": "5f82165d-05ea-4c54-ac88-9eac27a9d8d4",
   "metadata": {},
   "outputs": [],
   "source": [
    "df.to_csv(\"my_custom_data.csv\", index=False)"
   ]
  },
  {
   "cell_type": "code",
   "execution_count": 12,
   "id": "b7e820b7-5cf5-4204-b96d-15bd33b07866",
   "metadata": {},
   "outputs": [
    {
     "name": "stdout",
     "output_type": "stream",
     "text": [
      "  student_name  age\n",
      "0        Noman   25\n",
      "1        Rakib   24\n",
      "2        Rifat   26\n",
      "3       Shimul   25\n",
      "4        Abeer   21\n"
     ]
    }
   ],
   "source": [
    "df = pd.read_csv(\"my_custom_data.csv\")\n",
    "print(df.head())"
   ]
  },
  {
   "cell_type": "code",
   "execution_count": null,
   "id": "89b5c198-13e2-4cb2-ad84-623f34b29c7c",
   "metadata": {},
   "outputs": [],
   "source": []
  }
 ],
 "metadata": {
  "kernelspec": {
   "display_name": "Python (env)",
   "language": "python",
   "name": "env"
  },
  "language_info": {
   "codemirror_mode": {
    "name": "ipython",
    "version": 3
   },
   "file_extension": ".py",
   "mimetype": "text/x-python",
   "name": "python",
   "nbconvert_exporter": "python",
   "pygments_lexer": "ipython3",
   "version": "3.13.2"
  }
 },
 "nbformat": 4,
 "nbformat_minor": 5
}
